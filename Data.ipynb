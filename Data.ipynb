{
 "cells": [
  {
   "cell_type": "code",
   "execution_count": 3,
   "metadata": {},
   "outputs": [
    {
     "ename": "SyntaxError",
     "evalue": "invalid syntax (<ipython-input-3-b68c40e47d24>, line 3)",
     "output_type": "error",
     "traceback": [
      "\u001b[0;36m  File \u001b[0;32m\"<ipython-input-3-b68c40e47d24>\"\u001b[0;36m, line \u001b[0;32m3\u001b[0m\n\u001b[0;31m    Following data sources will be used to examine the business problem:\u001b[0m\n\u001b[0m                 ^\u001b[0m\n\u001b[0;31mSyntaxError\u001b[0m\u001b[0;31m:\u001b[0m invalid syntax\n"
     ]
    }
   ],
   "source": [
    "Data\n",
    "\n",
    "Following data sources will be used to examine the business problem:\n",
    "\n",
    "1) New York City Dataset\n",
    "\n",
    "- Link: https://geo.nyu.edu/catalog/nyu_2451_34572\n",
    "- Description: This New York City Neighborhood Names point file was created as a guide to New York City’s neighborhoods that appear on the web resource, \n",
    "“New York: A City of Neighborhoods.” Best estimates of label centroids were established at a 1:1,000 scale, but are ideally viewed at a 1:50,000 scale. \n",
    "This dataset will provide the addresses of neighborhood of NYC in json format. \n",
    "An extract of the json is as follows:\n",
    "\n",
    "{'type': 'Feature',\n",
    "'id': 'nyu_2451_34572.306',\n",
    "'geometry': {'type': 'Point',\n",
    "'coordinates': [-74.08173992211962, 40.61731079252983]},\n",
    "'geometry_name': 'geom',\n",
    "'properties': {'name': 'Fox Hills',\n",
    "'stacked': 2,\n",
    "'annoline1': 'Fox',\n",
    "'annoline2': 'Hills',\n",
    "'annoline3': None,\n",
    "'annoangle': 0.0,\n",
    "'borough': 'Staten Island',\n",
    "'bbox': [-74.08173992211962,\n",
    "40.61731079252983,\n",
    "-74.08173992211962,\n",
    "40.61731079252983]}}"
   ]
  },
  {
   "cell_type": "code",
   "execution_count": null,
   "metadata": {},
   "outputs": [],
   "source": [
    "2) Foursquare API:\n",
    "\n",
    "- Link: https://developer.foursquare.com/docs\n",
    "- Description: Foursquare API, a location data provider, will be used to make RESTful API calls to retrieve data about venues in different neighborhoods. \n",
    "This is the link to Foursquare Venue Category Hierarchy. Venues retrieved from all the neighborhoods are categorized broadly into \"Arts & Entertainment\", \"College & University\", \"Event\", \"Food\", \"Nightlife Spot\", \"Outdoors & Recreation\", etc. An extract of an API call is as follows:\n",
    "\n",
    "'categories': [{'id': '4bf58dd8d48988d110941735',\n",
    "'name': 'Italian Restaurant',\n",
    "'pluralName': 'Italian Restaurants',\n",
    "'shortName': 'Italian',\n",
    "'icon': {'prefix': 'https://ss3.4sqi.net/img/categories_v2/food/italian_',\n",
    "'suffix': '.png'},\n",
    "'primary': True}],\n",
    "'verified': False,\n",
    "'stats': {'tipCount': 17},\n",
    "'url': 'http://eccorestaurantny.com',\n",
    "'price': {'tier': 4, 'message': 'Very Expensive', 'currency'"
   ]
  }
 ],
 "metadata": {
  "kernelspec": {
   "display_name": "Python",
   "language": "python",
   "name": "conda-env-python-py"
  },
  "language_info": {
   "codemirror_mode": {
    "name": "ipython",
    "version": 3
   },
   "file_extension": ".py",
   "mimetype": "text/x-python",
   "name": "python",
   "nbconvert_exporter": "python",
   "pygments_lexer": "ipython3",
   "version": "3.6.10"
  }
 },
 "nbformat": 4,
 "nbformat_minor": 4
}
